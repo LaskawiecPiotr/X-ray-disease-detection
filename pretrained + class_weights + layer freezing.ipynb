{
 "cells": [
  {
   "cell_type": "code",
   "execution_count": 1,
   "metadata": {},
   "outputs": [],
   "source": [
    "\n",
    "import os\n",
    "import glob\n",
    "import gc\n",
    "import cv2\n",
    "import numpy as np\n",
    "import pandas as pd\n",
    "import matplotlib.pyplot as plt\n",
    "import matplotlib.patches as patches\n",
    "\n",
    "import torch\n",
    "import torch.nn as nn\n",
    "import torch.optim as optim\n",
    "import torch.optim.lr_scheduler as lr_scheduler\n",
    "from torch.utils.data import Dataset, DataLoader\n",
    "from torchvision import models, transforms\n",
    "import torchvision.transforms.v2 as v2\n",
    "import torch.nn.functional as F\n",
    "\n",
    "from ignite.engine import Engine, Events, create_supervised_trainer, create_supervised_evaluator\n",
    "from ignite.handlers import EarlyStopping, ModelCheckpoint, TerminateOnNan\n",
    "from ignite.contrib.handlers import ProgressBar\n",
    "from ignite.metrics import Loss, Accuracy, Precision, Recall\n",
    "\n",
    "from tqdm.notebook import tqdm\n",
    "from sklearn.model_selection import train_test_split\n",
    "from sklearn.metrics import (classification_report, confusion_matrix, \n",
    "                             precision_score, recall_score, f1_score, roc_curve, auc)"
   ]
  },
  {
   "cell_type": "code",
   "execution_count": 3,
   "metadata": {},
   "outputs": [],
   "source": [
    "torch.manual_seed(42)\n",
    "record_path=r\"C:\\Users\\piotr\\.cache\\kagglehub\\datasets\\nih-chest-xrays\\data\\versions\\3\""
   ]
  },
  {
   "cell_type": "code",
   "execution_count": null,
   "metadata": {},
   "outputs": [],
   "source": [
    "df_train=pd.read_parquet(\"df_train_cleaned.parquet\")"
   ]
  },
  {
   "cell_type": "code",
   "execution_count": 15,
   "metadata": {},
   "outputs": [],
   "source": [
    "image_paths=glob.glob(record_path+r\"\\**\\*.png\",recursive=True)"
   ]
  },
  {
   "cell_type": "code",
   "execution_count": 16,
   "metadata": {},
   "outputs": [],
   "source": [
    "image_path_dict = {path.split(\"\\\\\")[-1]: path for path in image_paths}\n",
    "\n",
    "class XrayDataset(Dataset):\n",
    "    def __init__(self, df, image_path_dict, transform=None):\n",
    "        self.df = df\n",
    "        self.image_path_dict = image_path_dict  # Dictionary for quick lookup\n",
    "        self.transform = transform\n",
    "\n",
    "    def __len__(self):\n",
    "        return len(self.df)\n",
    "\n",
    "    def __getitem__(self, idx):\n",
    "        image_name = self.df.iloc[idx]['Image Index']\n",
    "        image_path = self.image_path_dict[image_name]\n",
    "        \n",
    "        image = cv2.imread(image_path)\n",
    "        image = cv2.cvtColor(image, cv2.COLOR_BGR2RGB)\n",
    "        label = self.df.iloc[idx].iloc[1:].values.astype(float)\n",
    "\n",
    "        if self.transform:\n",
    "            image = self.transform(image)\n",
    "\n",
    "        return image, torch.tensor(label)\n",
    "\n",
    "#Data Augmentation transform\n",
    "transform = v2.Compose([\n",
    "    v2.ToImage(),\n",
    "    v2.ToDtype(torch.float32, scale=True),\n",
    "    v2.Resize((224, 224)),\n",
    "    v2.RandomAffine(degrees=5, translate=(0.02, 0.02), scale=(0.95, 1.05), shear=5),\n",
    "    v2.RandomHorizontalFlip(p=0.5),\n",
    "    # v2.ColorJitter(brightness=0.1, contrast=0.1),\n",
    "    v2.Normalize(mean=[0.485, 0.456, 0.406], std=[0.229, 0.224, 0.225])\n",
    "])\n"
   ]
  },
  {
   "cell_type": "code",
   "execution_count": 17,
   "metadata": {},
   "outputs": [],
   "source": [
    "\n",
    "# Split the training dataset into train and validation sets (80% train, 20% validation)\n",
    "train_df, val_df = train_test_split(df_train, test_size=0.2, random_state=42)\n",
    "# Create new datasets for training and validation\n",
    "train_dataset = XrayDataset(train_df, image_path_dict, transform=transform)\n",
    "val_dataset = XrayDataset(val_df, image_path_dict, transform=transform)\n",
    "train_loader = DataLoader(train_dataset, batch_size=16, shuffle=True,pin_memory=True)\n",
    "val_loader = DataLoader(val_dataset, batch_size=16, shuffle=False,pin_memory=True)"
   ]
  },
  {
   "cell_type": "code",
   "execution_count": null,
   "metadata": {},
   "outputs": [
    {
     "name": "stdout",
     "output_type": "stream",
     "text": [
      "Using device: cuda\n",
      "Number of classes: 8\n"
     ]
    },
    {
     "name": "stderr",
     "output_type": "stream",
     "text": [
      "c:\\Users\\piotr\\anaconda3\\Lib\\site-packages\\ignite\\handlers\\tqdm_logger.py:127: TqdmExperimentalWarning: Using `tqdm.autonotebook.tqdm` in notebook mode. Use `tqdm.tqdm` instead to force console mode (e.g. in jupyter console)\n",
      "  from tqdm.autonotebook import tqdm\n"
     ]
    },
    {
     "data": {
      "text/plain": [
       "<ignite.engine.events.RemovableEventHandle at 0x150ebb051c0>"
      ]
     },
     "execution_count": 18,
     "metadata": {},
     "output_type": "execute_result"
    }
   ],
   "source": [
    "device = torch.device(\"cuda\" if torch.cuda.is_available() else \"cpu\")\n",
    "print(\"Using device:\", device)\n",
    "\n",
    "# Count how many classes remain after dropping rare diseases\n",
    "num_classes = len([d for d in common_diseases if d != \"No Finding\"])\n",
    "print(\"Number of classes:\", num_classes)\n",
    "class LSEPoolingHead(nn.Module):\n",
    "    \"\"\"\n",
    "    Custom head to incorporate LSE pooling between \n",
    "    the final feature map and the output layer.\n",
    "    \"\"\"\n",
    "    def __init__(self, in_features, num_classes, r=10.0):\n",
    "        super().__init__()\n",
    "        self.r = r\n",
    "        self.classifier = nn.Linear(in_features, num_classes)\n",
    "\n",
    "    def forward(self, x):\n",
    "        # Expecting x shape = (batch, C, H, W)\n",
    "        # 1) LSE pooling\n",
    "        b, c, h, w = x.shape\n",
    "        x_2d = x.view(b, c, -1)  # shape: (batch, C, H*W)\n",
    "\n",
    "        # For numerical stability, subtract the max along the spatial dim\n",
    "        x_max, _ = x_2d.max(dim=2, keepdim=True)  # shape: (batch, C, 1)\n",
    "        x_stable = x_2d - x_max\n",
    "\n",
    "        # LSE formula\n",
    "        out = (1.0 / self.r) * torch.log(\n",
    "            1e-6 + torch.mean(torch.exp(self.r * x_stable), dim=2)\n",
    "        ) + x_max.squeeze(2)  # shape: (batch, C)\n",
    "\n",
    "        # 2) Final linear layer to get (batch, num_classes)\n",
    "        logits = self.classifier(out)\n",
    "        return logits\n",
    "\n",
    "class DenseNetWithLSE(nn.Module):\n",
    "    \"\"\"\n",
    "    Wraps a DenseNet-121, but removes its adaptive avg pool and \n",
    "    built-in classifier. Instead, we apply ReLU + LSEPoolingHead.\n",
    "    \"\"\"\n",
    "    def __init__(self, num_classes=8, r=10.0, freeze_until='denseblock4'):\n",
    "        super().__init__()\n",
    "        # Load the pretrained DenseNet\n",
    "        base_net = models.densenet121(weights=models.DenseNet121_Weights.DEFAULT)\n",
    "\n",
    "        # Freeze some parts if desired\n",
    "        for name, param in base_net.features.named_parameters():\n",
    "            # Example: freeze all layers except the last denseblock\n",
    "            if freeze_until in name:\n",
    "                param.requires_grad = True\n",
    "            else:\n",
    "                param.requires_grad = False\n",
    "\n",
    "        # We'll keep the feature extractor, but skip the classifier\n",
    "        self.features = base_net.features\n",
    "        # We'll remove the built-in classifier to do custom pooling\n",
    "        # Original: out = F.adaptive_avg_pool2d(out, (1, 1))\n",
    "        # We'll override the forward to skip that\n",
    "\n",
    "        # Build custom LSE head\n",
    "        # DenseNet-121 final channels = 1024\n",
    "        self.lse_head = LSEPoolingHead(\n",
    "            in_features=1024, \n",
    "            num_classes=num_classes, \n",
    "            r=r\n",
    "        )\n",
    "\n",
    "    def forward(self, x):\n",
    "        # 1) Pass input through the DenseNet feature layers\n",
    "        out = self.features(x)                     # shape: (batch, 1024, H, W)\n",
    "        out = F.relu(out, inplace=True)            # shape: (batch, 1024, H, W)\n",
    "        # 2) Instead of adaptive pooling, do LSE pooling\n",
    "        logits = self.lse_head(out)\n",
    "        return logits\n",
    "    \n",
    "# We start with DenseNet121\n",
    "model = DenseNetWithLSE(\n",
    "    num_classes=num_classes, \n",
    "    r=10.0,                 # hyperparameter for LSE\n",
    "    freeze_until='denseblock4'  # or adjust as you want\n",
    ")\n",
    "model = model.to(device)\n",
    "\n",
    "# Loss function and optimizer\n",
    "pos_weight = (df_train.iloc[:,1:]==0.).sum()/df_train.iloc[:,1:].sum()\n",
    "class_weights=torch.tensor(pos_weight.values,dtype=torch.float32).to(device)\n",
    "criterion = nn.BCEWithLogitsLoss(pos_weight=class_weights)\n",
    "optimizer = optim.Adam(filter(lambda p: p.requires_grad, model.parameters()), \n",
    "                       lr=0.001, weight_decay=1e-4)\n",
    "\n",
    "# Learning rate scheduler\n",
    "scheduler = lr_scheduler.ReduceLROnPlateau(optimizer, mode='min', patience=3)\n",
    "# Create the trainer and evaluators\n",
    "trainer = create_supervised_trainer(model, optimizer, criterion, device=device)\n",
    "\n",
    "val_metrics = {\n",
    "    \"accuracy\": Accuracy(output_transform=lambda x: (torch.sigmoid(x[0]) > 0.5, x[1]), is_multilabel=True),\n",
    "    \"precision\": Precision(average=False, output_transform=lambda x: (torch.sigmoid(x[0]) > 0.5, x[1]), is_multilabel=True),\n",
    "    \"recall\": Recall(average=False, output_transform=lambda x: (torch.sigmoid(x[0]) > 0.5, x[1]), is_multilabel=True),\n",
    "    \"loss\": Loss(criterion)\n",
    "}\n",
    "\n",
    "train_evaluator = create_supervised_evaluator(model, metrics=val_metrics, device=device)\n",
    "val_evaluator = create_supervised_evaluator(model, metrics=val_metrics, device=device)\n",
    "\n",
    "# Attach progress bar to the trainer\n",
    "pbar = ProgressBar(persist=True)\n",
    "pbar.attach(trainer, output_transform=lambda x: {\"loss\": x})\n",
    "\n",
    "# Validation after each epoch\n",
    "@trainer.on(Events.EPOCH_COMPLETED)\n",
    "def run_validation(engine):\n",
    "    val_evaluator.run(val_loader)\n",
    "    metrics = val_evaluator.state.metrics\n",
    "    avg_accuracy = metrics['accuracy']\n",
    "    avg_loss = metrics['loss']\n",
    "    print(f\"\\nValidation - Epoch: {engine.state.epoch} | \"\n",
    "          f\"Avg accuracy: {avg_accuracy:.4f} | Avg loss: {avg_loss:.4f}\")\n",
    "@trainer.on(Events.EPOCH_COMPLETED)\n",
    "def log_learning_rate(engine):\n",
    "    current_lr = optimizer.param_groups[0]['lr']\n",
    "    print(f\"Learning Rate after Epoch {engine.state.epoch}: {current_lr:.6f}\")\n",
    "@trainer.on(Events.EPOCH_COMPLETED)\n",
    "def run_scheduler(engine):\n",
    "    val_loss = val_evaluator.state.metrics[\"loss\"]\n",
    "    scheduler.step(val_loss)\n",
    "    print(f\"Scheduler stepped with validation loss: {val_loss:.4f}\")\n",
    "    \n",
    "early_stopping = EarlyStopping(\n",
    "    patience=5,  # Number of epochs to wait without improvement\n",
    "    score_function=lambda engine: -engine.state.metrics[\"loss\"],  # Use validation loss (negative for minimizing)\n",
    "    trainer=trainer\n",
    ")\n",
    "val_evaluator.add_event_handler(Events.COMPLETED, early_stopping)\n",
    "trainer.add_event_handler(Events.ITERATION_COMPLETED, TerminateOnNan())\n",
    "\n",
    "checkpoint_handler = ModelCheckpoint(\n",
    "    dirname='checkpoints',\n",
    "    filename_prefix='chestxray',\n",
    "    n_saved=1,\n",
    "    create_dir=True,\n",
    "    require_empty=False,\n",
    "    score_function=lambda e: -e.state.metrics[\"loss\"], \n",
    "    score_name=\"val_loss\",\n",
    "    global_step_transform=lambda e, _: e.state.epoch\n",
    ")\n",
    "\n",
    "val_evaluator.add_event_handler(Events.COMPLETED, checkpoint_handler, {\n",
    "    'best_model': model\n",
    "})"
   ]
  },
  {
   "cell_type": "code",
   "execution_count": 20,
   "metadata": {},
   "outputs": [
    {
     "data": {
      "text/plain": [
       "<All keys matched successfully>"
      ]
     },
     "execution_count": 20,
     "metadata": {},
     "output_type": "execute_result"
    }
   ],
   "source": [
    "model.load_state_dict(torch.load(r\"C:\\Users\\piotr\\Documents\\GitHub\\X-ray-disease-detection\\checkpoints\\chestxray_best_model_1_val_loss=-1.2650.pt\", weights_only=True))"
   ]
  },
  {
   "cell_type": "code",
   "execution_count": 36,
   "metadata": {},
   "outputs": [
    {
     "data": {
      "application/vnd.jupyter.widget-view+json": {
       "model_id": "3e12711ea2364503ada7cd863bdc1993",
       "version_major": 2,
       "version_minor": 0
      },
      "text/plain": [
       "[1/4005]   0%|           [00:00<?]"
      ]
     },
     "metadata": {},
     "output_type": "display_data"
    },
    {
     "name": "stdout",
     "output_type": "stream",
     "text": [
      "\n",
      "Validation - Epoch: 4 | Avg accuracy: 0.2172 | Avg loss: 1.6017\n",
      "Learning Rate after Epoch 4: 0.001000\n",
      "Scheduler stepped with validation loss: 1.6017\n"
     ]
    },
    {
     "data": {
      "application/vnd.jupyter.widget-view+json": {
       "model_id": "8a4418dca68f49f2b62337899ba6bdd9",
       "version_major": 2,
       "version_minor": 0
      },
      "text/plain": [
       "[1/4005]   0%|           [00:00<?]"
      ]
     },
     "metadata": {},
     "output_type": "display_data"
    },
    {
     "name": "stdout",
     "output_type": "stream",
     "text": [
      "\n",
      "Validation - Epoch: 5 | Avg accuracy: 0.1986 | Avg loss: 1.2388\n",
      "Learning Rate after Epoch 5: 0.001000\n",
      "Scheduler stepped with validation loss: 1.2388\n"
     ]
    },
    {
     "data": {
      "application/vnd.jupyter.widget-view+json": {
       "model_id": "5e6c936e353d4e339bf766f0caf93108",
       "version_major": 2,
       "version_minor": 0
      },
      "text/plain": [
       "[1/4005]   0%|           [00:00<?]"
      ]
     },
     "metadata": {},
     "output_type": "display_data"
    },
    {
     "name": "stdout",
     "output_type": "stream",
     "text": [
      "\n",
      "Validation - Epoch: 6 | Avg accuracy: 0.2287 | Avg loss: 1.2138\n",
      "Learning Rate after Epoch 6: 0.001000\n",
      "Scheduler stepped with validation loss: 1.2138\n"
     ]
    },
    {
     "data": {
      "application/vnd.jupyter.widget-view+json": {
       "model_id": "51e494e623594f73aee5e5a31b37ec85",
       "version_major": 2,
       "version_minor": 0
      },
      "text/plain": [
       "[1/4005]   0%|           [00:00<?]"
      ]
     },
     "metadata": {},
     "output_type": "display_data"
    },
    {
     "name": "stdout",
     "output_type": "stream",
     "text": [
      "\n",
      "Validation - Epoch: 7 | Avg accuracy: 0.3008 | Avg loss: 1.2874\n",
      "Learning Rate after Epoch 7: 0.001000\n",
      "Scheduler stepped with validation loss: 1.2874\n"
     ]
    },
    {
     "data": {
      "application/vnd.jupyter.widget-view+json": {
       "model_id": "8a767bcf229a46658b254fcfb7aa9ffa",
       "version_major": 2,
       "version_minor": 0
      },
      "text/plain": [
       "[1/4005]   0%|           [00:00<?]"
      ]
     },
     "metadata": {},
     "output_type": "display_data"
    },
    {
     "name": "stdout",
     "output_type": "stream",
     "text": [
      "\n",
      "Validation - Epoch: 8 | Avg accuracy: 0.1944 | Avg loss: 1.0705\n",
      "Learning Rate after Epoch 8: 0.000100\n",
      "Scheduler stepped with validation loss: 1.0705\n"
     ]
    },
    {
     "data": {
      "application/vnd.jupyter.widget-view+json": {
       "model_id": "3eed235d80234047b83cebb88b263b89",
       "version_major": 2,
       "version_minor": 0
      },
      "text/plain": [
       "[1/4005]   0%|           [00:00<?]"
      ]
     },
     "metadata": {},
     "output_type": "display_data"
    },
    {
     "name": "stdout",
     "output_type": "stream",
     "text": [
      "\n",
      "Validation - Epoch: 9 | Avg accuracy: 0.2419 | Avg loss: 1.0497\n",
      "Learning Rate after Epoch 9: 0.000100\n",
      "Scheduler stepped with validation loss: 1.0497\n"
     ]
    },
    {
     "data": {
      "application/vnd.jupyter.widget-view+json": {
       "model_id": "3156d5cb516345ec9e8da78d0c6a105f",
       "version_major": 2,
       "version_minor": 0
      },
      "text/plain": [
       "[1/4005]   0%|           [00:00<?]"
      ]
     },
     "metadata": {},
     "output_type": "display_data"
    },
    {
     "name": "stdout",
     "output_type": "stream",
     "text": [
      "\n",
      "Validation - Epoch: 10 | Avg accuracy: 0.2667 | Avg loss: 1.0427\n",
      "Learning Rate after Epoch 10: 0.000100\n",
      "Scheduler stepped with validation loss: 1.0427\n"
     ]
    },
    {
     "data": {
      "application/vnd.jupyter.widget-view+json": {
       "model_id": "fdf755c0fde84d8cbf8ab9c356eb4d8c",
       "version_major": 2,
       "version_minor": 0
      },
      "text/plain": [
       "[1/4005]   0%|           [00:00<?]"
      ]
     },
     "metadata": {},
     "output_type": "display_data"
    },
    {
     "name": "stdout",
     "output_type": "stream",
     "text": [
      "\n",
      "Validation - Epoch: 11 | Avg accuracy: 0.1626 | Avg loss: 1.0553\n",
      "Learning Rate after Epoch 11: 0.000100\n",
      "Scheduler stepped with validation loss: 1.0553\n"
     ]
    },
    {
     "data": {
      "application/vnd.jupyter.widget-view+json": {
       "model_id": "4d166af3c11c4d23b086d59d508ba2fb",
       "version_major": 2,
       "version_minor": 0
      },
      "text/plain": [
       "[1/4005]   0%|           [00:00<?]"
      ]
     },
     "metadata": {},
     "output_type": "display_data"
    },
    {
     "name": "stdout",
     "output_type": "stream",
     "text": [
      "\n",
      "Validation - Epoch: 12 | Avg accuracy: 0.2260 | Avg loss: 1.0622\n",
      "Learning Rate after Epoch 12: 0.000100\n",
      "Scheduler stepped with validation loss: 1.0622\n"
     ]
    },
    {
     "data": {
      "application/vnd.jupyter.widget-view+json": {
       "model_id": "ae0b4d463aa54bc4b3b1071f9cc7f5fe",
       "version_major": 2,
       "version_minor": 0
      },
      "text/plain": [
       "[1/4005]   0%|           [00:00<?]"
      ]
     },
     "metadata": {},
     "output_type": "display_data"
    },
    {
     "name": "stdout",
     "output_type": "stream",
     "text": [
      "\n",
      "Validation - Epoch: 13 | Avg accuracy: 0.2557 | Avg loss: 1.0553\n",
      "Learning Rate after Epoch 13: 0.000100\n",
      "Scheduler stepped with validation loss: 1.0553\n"
     ]
    },
    {
     "data": {
      "application/vnd.jupyter.widget-view+json": {
       "model_id": "2d342732420d43368e8259267a2119d6",
       "version_major": 2,
       "version_minor": 0
      },
      "text/plain": [
       "[1/4005]   0%|           [00:00<?]"
      ]
     },
     "metadata": {},
     "output_type": "display_data"
    },
    {
     "name": "stdout",
     "output_type": "stream",
     "text": [
      "\n",
      "Validation - Epoch: 14 | Avg accuracy: 0.2179 | Avg loss: 1.0487\n",
      "Learning Rate after Epoch 14: 0.000100\n",
      "Scheduler stepped with validation loss: 1.0487\n"
     ]
    },
    {
     "data": {
      "application/vnd.jupyter.widget-view+json": {
       "model_id": "2304186e4066439ab86a9ee9b049aef6",
       "version_major": 2,
       "version_minor": 0
      },
      "text/plain": [
       "[1/4005]   0%|           [00:00<?]"
      ]
     },
     "metadata": {},
     "output_type": "display_data"
    },
    {
     "name": "stdout",
     "output_type": "stream",
     "text": [
      "\n",
      "Validation - Epoch: 15 | Avg accuracy: 0.2181 | Avg loss: 1.0344\n",
      "Learning Rate after Epoch 15: 0.000010\n",
      "Scheduler stepped with validation loss: 1.0344\n"
     ]
    },
    {
     "data": {
      "application/vnd.jupyter.widget-view+json": {
       "model_id": "d7a29c683f0644929df366a4145f82c9",
       "version_major": 2,
       "version_minor": 0
      },
      "text/plain": [
       "[1/4005]   0%|           [00:00<?]"
      ]
     },
     "metadata": {},
     "output_type": "display_data"
    },
    {
     "name": "stdout",
     "output_type": "stream",
     "text": [
      "\n",
      "Validation - Epoch: 16 | Avg accuracy: 0.2607 | Avg loss: 1.0347\n",
      "Learning Rate after Epoch 16: 0.000010\n",
      "Scheduler stepped with validation loss: 1.0347\n"
     ]
    },
    {
     "data": {
      "application/vnd.jupyter.widget-view+json": {
       "model_id": "15c3a13889894d59ac747b31310a584a",
       "version_major": 2,
       "version_minor": 0
      },
      "text/plain": [
       "[1/4005]   0%|           [00:00<?]"
      ]
     },
     "metadata": {},
     "output_type": "display_data"
    },
    {
     "name": "stdout",
     "output_type": "stream",
     "text": [
      "\n",
      "Validation - Epoch: 17 | Avg accuracy: 0.2416 | Avg loss: 1.0585\n",
      "Learning Rate after Epoch 17: 0.000010\n",
      "Scheduler stepped with validation loss: 1.0585\n"
     ]
    },
    {
     "data": {
      "application/vnd.jupyter.widget-view+json": {
       "model_id": "2fc23083c95e458e81325d99c8b55022",
       "version_major": 2,
       "version_minor": 0
      },
      "text/plain": [
       "[1/4005]   0%|           [00:00<?]"
      ]
     },
     "metadata": {},
     "output_type": "display_data"
    },
    {
     "name": "stdout",
     "output_type": "stream",
     "text": [
      "\n",
      "Validation - Epoch: 18 | Avg accuracy: 0.2272 | Avg loss: 1.0310\n",
      "Learning Rate after Epoch 18: 0.000010\n",
      "Scheduler stepped with validation loss: 1.0310\n"
     ]
    },
    {
     "data": {
      "application/vnd.jupyter.widget-view+json": {
       "model_id": "38d384fb51f84d78932e998eb1102a77",
       "version_major": 2,
       "version_minor": 0
      },
      "text/plain": [
       "[1/4005]   0%|           [00:00<?]"
      ]
     },
     "metadata": {},
     "output_type": "display_data"
    },
    {
     "name": "stdout",
     "output_type": "stream",
     "text": [
      "\n",
      "Validation - Epoch: 19 | Avg accuracy: 0.2535 | Avg loss: 1.0375\n",
      "Learning Rate after Epoch 19: 0.000010\n",
      "Scheduler stepped with validation loss: 1.0375\n"
     ]
    },
    {
     "data": {
      "application/vnd.jupyter.widget-view+json": {
       "model_id": "93750731bf4441dc898f8cff8f4395bd",
       "version_major": 2,
       "version_minor": 0
      },
      "text/plain": [
       "[1/4005]   0%|           [00:00<?]"
      ]
     },
     "metadata": {},
     "output_type": "display_data"
    },
    {
     "name": "stdout",
     "output_type": "stream",
     "text": [
      "\n",
      "Validation - Epoch: 20 | Avg accuracy: 0.2486 | Avg loss: 1.0393\n",
      "Learning Rate after Epoch 20: 0.000010\n",
      "Scheduler stepped with validation loss: 1.0393\n"
     ]
    },
    {
     "data": {
      "application/vnd.jupyter.widget-view+json": {
       "model_id": "211f4b88dae841a982d024d394b9e325",
       "version_major": 2,
       "version_minor": 0
      },
      "text/plain": [
       "[1/4005]   0%|           [00:00<?]"
      ]
     },
     "metadata": {},
     "output_type": "display_data"
    },
    {
     "name": "stdout",
     "output_type": "stream",
     "text": [
      "\n",
      "Validation - Epoch: 21 | Avg accuracy: 0.2363 | Avg loss: 1.0290\n",
      "Learning Rate after Epoch 21: 0.000010\n",
      "Scheduler stepped with validation loss: 1.0290\n"
     ]
    },
    {
     "data": {
      "application/vnd.jupyter.widget-view+json": {
       "model_id": "83a51b10337944c59068ffebd2f79fbb",
       "version_major": 2,
       "version_minor": 0
      },
      "text/plain": [
       "[1/4005]   0%|           [00:00<?]"
      ]
     },
     "metadata": {},
     "output_type": "display_data"
    },
    {
     "name": "stdout",
     "output_type": "stream",
     "text": [
      "\n",
      "Validation - Epoch: 22 | Avg accuracy: 0.2241 | Avg loss: 1.0397\n",
      "Learning Rate after Epoch 22: 0.000010\n",
      "Scheduler stepped with validation loss: 1.0397\n"
     ]
    },
    {
     "data": {
      "application/vnd.jupyter.widget-view+json": {
       "model_id": "638b3fdb05d741ae9101c46f0adb7316",
       "version_major": 2,
       "version_minor": 0
      },
      "text/plain": [
       "[1/4005]   0%|           [00:00<?]"
      ]
     },
     "metadata": {},
     "output_type": "display_data"
    },
    {
     "name": "stdout",
     "output_type": "stream",
     "text": [
      "\n",
      "Validation - Epoch: 23 | Avg accuracy: 0.2203 | Avg loss: 1.0352\n",
      "Learning Rate after Epoch 23: 0.000010\n",
      "Scheduler stepped with validation loss: 1.0352\n"
     ]
    },
    {
     "data": {
      "application/vnd.jupyter.widget-view+json": {
       "model_id": "2cca0f69f1814e60afd60dc172a4de28",
       "version_major": 2,
       "version_minor": 0
      },
      "text/plain": [
       "[1/4005]   0%|           [00:00<?]"
      ]
     },
     "metadata": {},
     "output_type": "display_data"
    },
    {
     "name": "stdout",
     "output_type": "stream",
     "text": [
      "\n",
      "Validation - Epoch: 24 | Avg accuracy: 0.2573 | Avg loss: 1.0385\n",
      "Learning Rate after Epoch 24: 0.000010\n",
      "Scheduler stepped with validation loss: 1.0385\n"
     ]
    },
    {
     "data": {
      "application/vnd.jupyter.widget-view+json": {
       "model_id": "d227146a5eb04da98e945c87d4e8f471",
       "version_major": 2,
       "version_minor": 0
      },
      "text/plain": [
       "[1/4005]   0%|           [00:00<?]"
      ]
     },
     "metadata": {},
     "output_type": "display_data"
    },
    {
     "name": "stderr",
     "output_type": "stream",
     "text": [
      "Engine run is terminating due to exception: \n"
     ]
    },
    {
     "ename": "KeyboardInterrupt",
     "evalue": "",
     "output_type": "error",
     "traceback": [
      "\u001b[1;31m---------------------------------------------------------------------------\u001b[0m",
      "\u001b[1;31mKeyboardInterrupt\u001b[0m                         Traceback (most recent call last)",
      "Cell \u001b[1;32mIn[36], line 1\u001b[0m\n\u001b[1;32m----> 1\u001b[0m trainer\u001b[38;5;241m.\u001b[39mrun(train_loader, max_epochs\u001b[38;5;241m=\u001b[39m\u001b[38;5;241m100\u001b[39m)\n",
      "File \u001b[1;32mc:\\Users\\piotr\\anaconda3\\Lib\\site-packages\\ignite\\engine\\engine.py:889\u001b[0m, in \u001b[0;36mEngine.run\u001b[1;34m(self, data, max_epochs, epoch_length)\u001b[0m\n\u001b[0;32m    886\u001b[0m     \u001b[38;5;28mself\u001b[39m\u001b[38;5;241m.\u001b[39mstate\u001b[38;5;241m.\u001b[39mdataloader \u001b[38;5;241m=\u001b[39m data\n\u001b[0;32m    888\u001b[0m \u001b[38;5;28;01mif\u001b[39;00m \u001b[38;5;28mself\u001b[39m\u001b[38;5;241m.\u001b[39minterrupt_resume_enabled:\n\u001b[1;32m--> 889\u001b[0m     \u001b[38;5;28;01mreturn\u001b[39;00m \u001b[38;5;28mself\u001b[39m\u001b[38;5;241m.\u001b[39m_internal_run()\n\u001b[0;32m    890\u001b[0m \u001b[38;5;28;01melse\u001b[39;00m:\n\u001b[0;32m    891\u001b[0m     \u001b[38;5;28;01mreturn\u001b[39;00m \u001b[38;5;28mself\u001b[39m\u001b[38;5;241m.\u001b[39m_internal_run_legacy()\n",
      "File \u001b[1;32mc:\\Users\\piotr\\anaconda3\\Lib\\site-packages\\ignite\\engine\\engine.py:932\u001b[0m, in \u001b[0;36mEngine._internal_run\u001b[1;34m(self)\u001b[0m\n\u001b[0;32m    930\u001b[0m     \u001b[38;5;28mself\u001b[39m\u001b[38;5;241m.\u001b[39m_internal_run_generator \u001b[38;5;241m=\u001b[39m \u001b[38;5;28mself\u001b[39m\u001b[38;5;241m.\u001b[39m_internal_run_as_gen()\n\u001b[0;32m    931\u001b[0m \u001b[38;5;28;01mtry\u001b[39;00m:\n\u001b[1;32m--> 932\u001b[0m     \u001b[38;5;28;01mreturn\u001b[39;00m \u001b[38;5;28mnext\u001b[39m(\u001b[38;5;28mself\u001b[39m\u001b[38;5;241m.\u001b[39m_internal_run_generator)\n\u001b[0;32m    933\u001b[0m \u001b[38;5;28;01mexcept\u001b[39;00m \u001b[38;5;167;01mStopIteration\u001b[39;00m \u001b[38;5;28;01mas\u001b[39;00m out:\n\u001b[0;32m    934\u001b[0m     \u001b[38;5;28mself\u001b[39m\u001b[38;5;241m.\u001b[39m_internal_run_generator \u001b[38;5;241m=\u001b[39m \u001b[38;5;28;01mNone\u001b[39;00m\n",
      "File \u001b[1;32mc:\\Users\\piotr\\anaconda3\\Lib\\site-packages\\ignite\\engine\\engine.py:990\u001b[0m, in \u001b[0;36mEngine._internal_run_as_gen\u001b[1;34m(self)\u001b[0m\n\u001b[0;32m    988\u001b[0m     \u001b[38;5;28mself\u001b[39m\u001b[38;5;241m.\u001b[39m_dataloader_iter \u001b[38;5;241m=\u001b[39m \u001b[38;5;28;01mNone\u001b[39;00m\n\u001b[0;32m    989\u001b[0m     \u001b[38;5;28mself\u001b[39m\u001b[38;5;241m.\u001b[39mlogger\u001b[38;5;241m.\u001b[39merror(\u001b[38;5;124mf\u001b[39m\u001b[38;5;124m\"\u001b[39m\u001b[38;5;124mEngine run is terminating due to exception: \u001b[39m\u001b[38;5;132;01m{\u001b[39;00me\u001b[38;5;132;01m}\u001b[39;00m\u001b[38;5;124m\"\u001b[39m)\n\u001b[1;32m--> 990\u001b[0m     \u001b[38;5;28mself\u001b[39m\u001b[38;5;241m.\u001b[39m_handle_exception(e)\n\u001b[0;32m    992\u001b[0m \u001b[38;5;28mself\u001b[39m\u001b[38;5;241m.\u001b[39m_dataloader_iter \u001b[38;5;241m=\u001b[39m \u001b[38;5;28;01mNone\u001b[39;00m\n\u001b[0;32m    993\u001b[0m \u001b[38;5;28;01mreturn\u001b[39;00m \u001b[38;5;28mself\u001b[39m\u001b[38;5;241m.\u001b[39mstate\n",
      "File \u001b[1;32mc:\\Users\\piotr\\anaconda3\\Lib\\site-packages\\ignite\\engine\\engine.py:644\u001b[0m, in \u001b[0;36mEngine._handle_exception\u001b[1;34m(self, e)\u001b[0m\n\u001b[0;32m    642\u001b[0m     \u001b[38;5;28mself\u001b[39m\u001b[38;5;241m.\u001b[39m_fire_event(Events\u001b[38;5;241m.\u001b[39mEXCEPTION_RAISED, e)\n\u001b[0;32m    643\u001b[0m \u001b[38;5;28;01melse\u001b[39;00m:\n\u001b[1;32m--> 644\u001b[0m     \u001b[38;5;28;01mraise\u001b[39;00m e\n",
      "File \u001b[1;32mc:\\Users\\piotr\\anaconda3\\Lib\\site-packages\\ignite\\engine\\engine.py:956\u001b[0m, in \u001b[0;36mEngine._internal_run_as_gen\u001b[1;34m(self)\u001b[0m\n\u001b[0;32m    953\u001b[0m \u001b[38;5;28;01mif\u001b[39;00m \u001b[38;5;28mself\u001b[39m\u001b[38;5;241m.\u001b[39m_dataloader_iter \u001b[38;5;129;01mis\u001b[39;00m \u001b[38;5;28;01mNone\u001b[39;00m:\n\u001b[0;32m    954\u001b[0m     \u001b[38;5;28mself\u001b[39m\u001b[38;5;241m.\u001b[39m_setup_engine()\n\u001b[1;32m--> 956\u001b[0m epoch_time_taken \u001b[38;5;241m+\u001b[39m\u001b[38;5;241m=\u001b[39m \u001b[38;5;28;01myield from\u001b[39;00m \u001b[38;5;28mself\u001b[39m\u001b[38;5;241m.\u001b[39m_run_once_on_dataset_as_gen()\n\u001b[0;32m    958\u001b[0m \u001b[38;5;66;03m# time is available for handlers but must be updated after fire\u001b[39;00m\n\u001b[0;32m    959\u001b[0m \u001b[38;5;28mself\u001b[39m\u001b[38;5;241m.\u001b[39mstate\u001b[38;5;241m.\u001b[39mtimes[Events\u001b[38;5;241m.\u001b[39mEPOCH_COMPLETED\u001b[38;5;241m.\u001b[39mname] \u001b[38;5;241m=\u001b[39m epoch_time_taken\n",
      "File \u001b[1;32mc:\\Users\\piotr\\anaconda3\\Lib\\site-packages\\ignite\\engine\\engine.py:1033\u001b[0m, in \u001b[0;36mEngine._run_once_on_dataset_as_gen\u001b[1;34m(self)\u001b[0m\n\u001b[0;32m   1030\u001b[0m         \u001b[38;5;28mself\u001b[39m\u001b[38;5;241m.\u001b[39m_fire_event(Events\u001b[38;5;241m.\u001b[39mGET_BATCH_STARTED)\n\u001b[0;32m   1031\u001b[0m         \u001b[38;5;28;01myield from\u001b[39;00m \u001b[38;5;28mself\u001b[39m\u001b[38;5;241m.\u001b[39m_maybe_terminate_or_interrupt()\n\u001b[1;32m-> 1033\u001b[0m \u001b[38;5;28mself\u001b[39m\u001b[38;5;241m.\u001b[39mstate\u001b[38;5;241m.\u001b[39mbatch \u001b[38;5;241m=\u001b[39m \u001b[38;5;28mnext\u001b[39m(\u001b[38;5;28mself\u001b[39m\u001b[38;5;241m.\u001b[39m_dataloader_iter)\n\u001b[0;32m   1035\u001b[0m \u001b[38;5;66;03m# We should not trigger GET_BATCH_STARTED, GET_BATCH_COMPLETED, DATALOADER_STOP_ITERATION events\u001b[39;00m\n\u001b[0;32m   1036\u001b[0m \u001b[38;5;66;03m# if no data was provided to engine.run(data=None, ...)\u001b[39;00m\n\u001b[0;32m   1037\u001b[0m \u001b[38;5;28;01mif\u001b[39;00m \u001b[38;5;28mself\u001b[39m\u001b[38;5;241m.\u001b[39mstate\u001b[38;5;241m.\u001b[39mdataloader \u001b[38;5;129;01mis\u001b[39;00m \u001b[38;5;129;01mnot\u001b[39;00m \u001b[38;5;28;01mNone\u001b[39;00m:\n",
      "File \u001b[1;32mc:\\Users\\piotr\\anaconda3\\Lib\\site-packages\\torch\\utils\\data\\dataloader.py:708\u001b[0m, in \u001b[0;36m_BaseDataLoaderIter.__next__\u001b[1;34m(self)\u001b[0m\n\u001b[0;32m    705\u001b[0m \u001b[38;5;28;01mif\u001b[39;00m \u001b[38;5;28mself\u001b[39m\u001b[38;5;241m.\u001b[39m_sampler_iter \u001b[38;5;129;01mis\u001b[39;00m \u001b[38;5;28;01mNone\u001b[39;00m:\n\u001b[0;32m    706\u001b[0m     \u001b[38;5;66;03m# TODO(https://github.com/pytorch/pytorch/issues/76750)\u001b[39;00m\n\u001b[0;32m    707\u001b[0m     \u001b[38;5;28mself\u001b[39m\u001b[38;5;241m.\u001b[39m_reset()  \u001b[38;5;66;03m# type: ignore[call-arg]\u001b[39;00m\n\u001b[1;32m--> 708\u001b[0m data \u001b[38;5;241m=\u001b[39m \u001b[38;5;28mself\u001b[39m\u001b[38;5;241m.\u001b[39m_next_data()\n\u001b[0;32m    709\u001b[0m \u001b[38;5;28mself\u001b[39m\u001b[38;5;241m.\u001b[39m_num_yielded \u001b[38;5;241m+\u001b[39m\u001b[38;5;241m=\u001b[39m \u001b[38;5;241m1\u001b[39m\n\u001b[0;32m    710\u001b[0m \u001b[38;5;28;01mif\u001b[39;00m (\n\u001b[0;32m    711\u001b[0m     \u001b[38;5;28mself\u001b[39m\u001b[38;5;241m.\u001b[39m_dataset_kind \u001b[38;5;241m==\u001b[39m _DatasetKind\u001b[38;5;241m.\u001b[39mIterable\n\u001b[0;32m    712\u001b[0m     \u001b[38;5;129;01mand\u001b[39;00m \u001b[38;5;28mself\u001b[39m\u001b[38;5;241m.\u001b[39m_IterableDataset_len_called \u001b[38;5;129;01mis\u001b[39;00m \u001b[38;5;129;01mnot\u001b[39;00m \u001b[38;5;28;01mNone\u001b[39;00m\n\u001b[0;32m    713\u001b[0m     \u001b[38;5;129;01mand\u001b[39;00m \u001b[38;5;28mself\u001b[39m\u001b[38;5;241m.\u001b[39m_num_yielded \u001b[38;5;241m>\u001b[39m \u001b[38;5;28mself\u001b[39m\u001b[38;5;241m.\u001b[39m_IterableDataset_len_called\n\u001b[0;32m    714\u001b[0m ):\n",
      "File \u001b[1;32mc:\\Users\\piotr\\anaconda3\\Lib\\site-packages\\torch\\utils\\data\\dataloader.py:764\u001b[0m, in \u001b[0;36m_SingleProcessDataLoaderIter._next_data\u001b[1;34m(self)\u001b[0m\n\u001b[0;32m    762\u001b[0m \u001b[38;5;28;01mdef\u001b[39;00m \u001b[38;5;21m_next_data\u001b[39m(\u001b[38;5;28mself\u001b[39m):\n\u001b[0;32m    763\u001b[0m     index \u001b[38;5;241m=\u001b[39m \u001b[38;5;28mself\u001b[39m\u001b[38;5;241m.\u001b[39m_next_index()  \u001b[38;5;66;03m# may raise StopIteration\u001b[39;00m\n\u001b[1;32m--> 764\u001b[0m     data \u001b[38;5;241m=\u001b[39m \u001b[38;5;28mself\u001b[39m\u001b[38;5;241m.\u001b[39m_dataset_fetcher\u001b[38;5;241m.\u001b[39mfetch(index)  \u001b[38;5;66;03m# may raise StopIteration\u001b[39;00m\n\u001b[0;32m    765\u001b[0m     \u001b[38;5;28;01mif\u001b[39;00m \u001b[38;5;28mself\u001b[39m\u001b[38;5;241m.\u001b[39m_pin_memory:\n\u001b[0;32m    766\u001b[0m         data \u001b[38;5;241m=\u001b[39m _utils\u001b[38;5;241m.\u001b[39mpin_memory\u001b[38;5;241m.\u001b[39mpin_memory(data, \u001b[38;5;28mself\u001b[39m\u001b[38;5;241m.\u001b[39m_pin_memory_device)\n",
      "File \u001b[1;32mc:\\Users\\piotr\\anaconda3\\Lib\\site-packages\\torch\\utils\\data\\_utils\\fetch.py:52\u001b[0m, in \u001b[0;36m_MapDatasetFetcher.fetch\u001b[1;34m(self, possibly_batched_index)\u001b[0m\n\u001b[0;32m     50\u001b[0m         data \u001b[38;5;241m=\u001b[39m \u001b[38;5;28mself\u001b[39m\u001b[38;5;241m.\u001b[39mdataset\u001b[38;5;241m.\u001b[39m__getitems__(possibly_batched_index)\n\u001b[0;32m     51\u001b[0m     \u001b[38;5;28;01melse\u001b[39;00m:\n\u001b[1;32m---> 52\u001b[0m         data \u001b[38;5;241m=\u001b[39m [\u001b[38;5;28mself\u001b[39m\u001b[38;5;241m.\u001b[39mdataset[idx] \u001b[38;5;28;01mfor\u001b[39;00m idx \u001b[38;5;129;01min\u001b[39;00m possibly_batched_index]\n\u001b[0;32m     53\u001b[0m \u001b[38;5;28;01melse\u001b[39;00m:\n\u001b[0;32m     54\u001b[0m     data \u001b[38;5;241m=\u001b[39m \u001b[38;5;28mself\u001b[39m\u001b[38;5;241m.\u001b[39mdataset[possibly_batched_index]\n",
      "Cell \u001b[1;32mIn[16], line 16\u001b[0m, in \u001b[0;36mXrayDataset.__getitem__\u001b[1;34m(self, idx)\u001b[0m\n\u001b[0;32m     13\u001b[0m image_name \u001b[38;5;241m=\u001b[39m \u001b[38;5;28mself\u001b[39m\u001b[38;5;241m.\u001b[39mdf\u001b[38;5;241m.\u001b[39miloc[idx][\u001b[38;5;124m'\u001b[39m\u001b[38;5;124mImage Index\u001b[39m\u001b[38;5;124m'\u001b[39m]\n\u001b[0;32m     14\u001b[0m image_path \u001b[38;5;241m=\u001b[39m \u001b[38;5;28mself\u001b[39m\u001b[38;5;241m.\u001b[39mimage_path_dict[image_name]\n\u001b[1;32m---> 16\u001b[0m image \u001b[38;5;241m=\u001b[39m cv2\u001b[38;5;241m.\u001b[39mimread(image_path)\n\u001b[0;32m     17\u001b[0m image \u001b[38;5;241m=\u001b[39m cv2\u001b[38;5;241m.\u001b[39mcvtColor(image, cv2\u001b[38;5;241m.\u001b[39mCOLOR_BGR2RGB)\n\u001b[0;32m     18\u001b[0m label \u001b[38;5;241m=\u001b[39m \u001b[38;5;28mself\u001b[39m\u001b[38;5;241m.\u001b[39mdf\u001b[38;5;241m.\u001b[39miloc[idx]\u001b[38;5;241m.\u001b[39miloc[\u001b[38;5;241m1\u001b[39m:]\u001b[38;5;241m.\u001b[39mvalues\u001b[38;5;241m.\u001b[39mastype(\u001b[38;5;28mfloat\u001b[39m)\n",
      "\u001b[1;31mKeyboardInterrupt\u001b[0m: "
     ]
    }
   ],
   "source": [
    "trainer.run(train_loader, max_epochs=100)"
   ]
  },
  {
   "cell_type": "code",
   "execution_count": null,
   "metadata": {},
   "outputs": [
    {
     "data": {
      "text/html": [
       "<div>\n",
       "<style scoped>\n",
       "    .dataframe tbody tr th:only-of-type {\n",
       "        vertical-align: middle;\n",
       "    }\n",
       "\n",
       "    .dataframe tbody tr th {\n",
       "        vertical-align: top;\n",
       "    }\n",
       "\n",
       "    .dataframe thead th {\n",
       "        text-align: right;\n",
       "    }\n",
       "</style>\n",
       "<table border=\"1\" class=\"dataframe\">\n",
       "  <thead>\n",
       "    <tr style=\"text-align: right;\">\n",
       "      <th></th>\n",
       "      <th>Image Index</th>\n",
       "      <th>Pleural_Thickening</th>\n",
       "      <th>Effusion</th>\n",
       "      <th>Nodule</th>\n",
       "      <th>Pneumothorax</th>\n",
       "      <th>Consolidation</th>\n",
       "      <th>Atelectasis</th>\n",
       "      <th>Mass</th>\n",
       "      <th>Infiltration</th>\n",
       "    </tr>\n",
       "  </thead>\n",
       "  <tbody>\n",
       "    <tr>\n",
       "      <th>38</th>\n",
       "      <td>00000013_000.png</td>\n",
       "      <td>0</td>\n",
       "      <td>0</td>\n",
       "      <td>0</td>\n",
       "      <td>0</td>\n",
       "      <td>0</td>\n",
       "      <td>0</td>\n",
       "      <td>0</td>\n",
       "      <td>0</td>\n",
       "    </tr>\n",
       "    <tr>\n",
       "      <th>39</th>\n",
       "      <td>00000013_001.png</td>\n",
       "      <td>0</td>\n",
       "      <td>0</td>\n",
       "      <td>0</td>\n",
       "      <td>1</td>\n",
       "      <td>0</td>\n",
       "      <td>0</td>\n",
       "      <td>0</td>\n",
       "      <td>0</td>\n",
       "    </tr>\n",
       "    <tr>\n",
       "      <th>40</th>\n",
       "      <td>00000013_002.png</td>\n",
       "      <td>0</td>\n",
       "      <td>0</td>\n",
       "      <td>0</td>\n",
       "      <td>1</td>\n",
       "      <td>0</td>\n",
       "      <td>0</td>\n",
       "      <td>0</td>\n",
       "      <td>0</td>\n",
       "    </tr>\n",
       "    <tr>\n",
       "      <th>41</th>\n",
       "      <td>00000013_003.png</td>\n",
       "      <td>1</td>\n",
       "      <td>0</td>\n",
       "      <td>0</td>\n",
       "      <td>0</td>\n",
       "      <td>0</td>\n",
       "      <td>0</td>\n",
       "      <td>0</td>\n",
       "      <td>0</td>\n",
       "    </tr>\n",
       "    <tr>\n",
       "      <th>42</th>\n",
       "      <td>00000013_004.png</td>\n",
       "      <td>0</td>\n",
       "      <td>1</td>\n",
       "      <td>0</td>\n",
       "      <td>1</td>\n",
       "      <td>0</td>\n",
       "      <td>0</td>\n",
       "      <td>0</td>\n",
       "      <td>1</td>\n",
       "    </tr>\n",
       "    <tr>\n",
       "      <th>...</th>\n",
       "      <td>...</td>\n",
       "      <td>...</td>\n",
       "      <td>...</td>\n",
       "      <td>...</td>\n",
       "      <td>...</td>\n",
       "      <td>...</td>\n",
       "      <td>...</td>\n",
       "      <td>...</td>\n",
       "      <td>...</td>\n",
       "    </tr>\n",
       "    <tr>\n",
       "      <th>112113</th>\n",
       "      <td>00030800_000.png</td>\n",
       "      <td>0</td>\n",
       "      <td>0</td>\n",
       "      <td>0</td>\n",
       "      <td>0</td>\n",
       "      <td>0</td>\n",
       "      <td>0</td>\n",
       "      <td>0</td>\n",
       "      <td>0</td>\n",
       "    </tr>\n",
       "    <tr>\n",
       "      <th>112116</th>\n",
       "      <td>00030802_000.png</td>\n",
       "      <td>0</td>\n",
       "      <td>0</td>\n",
       "      <td>0</td>\n",
       "      <td>0</td>\n",
       "      <td>0</td>\n",
       "      <td>0</td>\n",
       "      <td>0</td>\n",
       "      <td>0</td>\n",
       "    </tr>\n",
       "    <tr>\n",
       "      <th>112117</th>\n",
       "      <td>00030803_000.png</td>\n",
       "      <td>0</td>\n",
       "      <td>0</td>\n",
       "      <td>0</td>\n",
       "      <td>0</td>\n",
       "      <td>0</td>\n",
       "      <td>0</td>\n",
       "      <td>0</td>\n",
       "      <td>0</td>\n",
       "    </tr>\n",
       "    <tr>\n",
       "      <th>112118</th>\n",
       "      <td>00030804_000.png</td>\n",
       "      <td>0</td>\n",
       "      <td>0</td>\n",
       "      <td>0</td>\n",
       "      <td>0</td>\n",
       "      <td>0</td>\n",
       "      <td>0</td>\n",
       "      <td>0</td>\n",
       "      <td>0</td>\n",
       "    </tr>\n",
       "    <tr>\n",
       "      <th>112119</th>\n",
       "      <td>00030805_000.png</td>\n",
       "      <td>0</td>\n",
       "      <td>0</td>\n",
       "      <td>0</td>\n",
       "      <td>0</td>\n",
       "      <td>0</td>\n",
       "      <td>0</td>\n",
       "      <td>0</td>\n",
       "      <td>0</td>\n",
       "    </tr>\n",
       "  </tbody>\n",
       "</table>\n",
       "<p>24526 rows × 9 columns</p>\n",
       "</div>"
      ],
      "text/plain": [
       "             Image Index  Pleural_Thickening  Effusion  Nodule  Pneumothorax  \\\n",
       "38      00000013_000.png                   0         0       0             0   \n",
       "39      00000013_001.png                   0         0       0             1   \n",
       "40      00000013_002.png                   0         0       0             1   \n",
       "41      00000013_003.png                   1         0       0             0   \n",
       "42      00000013_004.png                   0         1       0             1   \n",
       "...                  ...                 ...       ...     ...           ...   \n",
       "112113  00030800_000.png                   0         0       0             0   \n",
       "112116  00030802_000.png                   0         0       0             0   \n",
       "112117  00030803_000.png                   0         0       0             0   \n",
       "112118  00030804_000.png                   0         0       0             0   \n",
       "112119  00030805_000.png                   0         0       0             0   \n",
       "\n",
       "        Consolidation  Atelectasis  Mass  Infiltration  \n",
       "38                  0            0     0             0  \n",
       "39                  0            0     0             0  \n",
       "40                  0            0     0             0  \n",
       "41                  0            0     0             0  \n",
       "42                  0            0     0             1  \n",
       "...               ...          ...   ...           ...  \n",
       "112113              0            0     0             0  \n",
       "112116              0            0     0             0  \n",
       "112117              0            0     0             0  \n",
       "112118              0            0     0             0  \n",
       "112119              0            0     0             0  \n",
       "\n",
       "[24526 rows x 9 columns]"
      ]
     },
     "execution_count": 37,
     "metadata": {},
     "output_type": "execute_result"
    }
   ],
   "source": [
    "df_test=pd.read_parquet(\"df_test_cleaned.parquet\")"
   ]
  },
  {
   "cell_type": "code",
   "execution_count": 38,
   "metadata": {},
   "outputs": [
    {
     "data": {
      "text/plain": [
       "State:\n",
       "\titeration: 767\n",
       "\tepoch: 1\n",
       "\tepoch_length: 767\n",
       "\tmax_epochs: 1\n",
       "\toutput: <class 'tuple'>\n",
       "\tbatch: <class 'list'>\n",
       "\tmetrics: <class 'dict'>\n",
       "\tdataloader: <class 'torch.utils.data.dataloader.DataLoader'>\n",
       "\tseed: <class 'NoneType'>\n",
       "\ttimes: <class 'dict'>"
      ]
     },
     "execution_count": 38,
     "metadata": {},
     "output_type": "execute_result"
    }
   ],
   "source": [
    "test_dataset = XrayDataset(df_test, image_path_dict, transform=transform)\n",
    "test_loader = DataLoader(test_dataset, batch_size=32, shuffle=False, pin_memory=True)\n",
    "logits = []\n",
    "labels_list = []\n",
    "\n",
    "def evaluate_step(engine, batch):\n",
    "    model.eval()\n",
    "    with torch.no_grad():\n",
    "        images, label = batch\n",
    "        images = images.to(device)\n",
    "        label  = label.to(device)\n",
    "        outputs = model(images)\n",
    "\n",
    "        # Store predictions & labels\n",
    "        logits.append(outputs.cpu().numpy())\n",
    "        labels_list.append(label.cpu().numpy())\n",
    "\n",
    "    return outputs, label\n",
    "\n",
    "evaluator = Engine(evaluate_step)\n",
    "evaluator.run(test_loader)"
   ]
  },
  {
   "cell_type": "code",
   "execution_count": 50,
   "metadata": {},
   "outputs": [
    {
     "name": "stdout",
     "output_type": "stream",
     "text": [
      "\n",
      "Classification Report (Per-Class):\n",
      "              precision    recall  f1-score   support\n",
      "\n",
      "     Class 0       0.10      0.46      0.17      1060\n",
      "     Class 1       0.36      0.72      0.48      4501\n",
      "     Class 2       0.16      0.36      0.22      1544\n",
      "     Class 3       0.29      0.61      0.39      2590\n",
      "     Class 4       0.12      0.65      0.21      1724\n",
      "     Class 5       0.27      0.51      0.35      3150\n",
      "     Class 6       0.17      0.45      0.25      1667\n",
      "     Class 7       0.38      0.47      0.42      5759\n",
      "\n",
      "   micro avg       0.24      0.55      0.34     21995\n",
      "   macro avg       0.23      0.53      0.31     21995\n",
      "weighted avg       0.28      0.55      0.36     21995\n",
      " samples avg       0.18      0.31      0.20     21995\n",
      "\n",
      "\n",
      "Confusion Matrix:\n",
      " [[7021 1978  736  518  508  585  143  317]\n",
      " [1442 2109  141  128  206  116   19   46]\n",
      " [ 530  152  236   64   53   50   34   26]\n",
      " [1018  209  150  303   60   36   17   25]\n",
      " [ 257  442   77   34  120   45   11   32]\n",
      " [ 540  388   50   71   68  236   11   13]\n",
      " [ 305  112   98   33   35   19   38    7]\n",
      " [ 895  676  328   91  297   93   23  105]]\n",
      "Binary Accuracy: 0.7581\n"
     ]
    },
    {
     "name": "stderr",
     "output_type": "stream",
     "text": [
      "c:\\Users\\piotr\\anaconda3\\Lib\\site-packages\\sklearn\\metrics\\_classification.py:1531: UndefinedMetricWarning: Precision is ill-defined and being set to 0.0 in samples with no predicted labels. Use `zero_division` parameter to control this behavior.\n",
      "  _warn_prf(average, modifier, f\"{metric.capitalize()} is\", len(result))\n",
      "c:\\Users\\piotr\\anaconda3\\Lib\\site-packages\\sklearn\\metrics\\_classification.py:1531: UndefinedMetricWarning: Recall is ill-defined and being set to 0.0 in samples with no true labels. Use `zero_division` parameter to control this behavior.\n",
      "  _warn_prf(average, modifier, f\"{metric.capitalize()} is\", len(result))\n",
      "c:\\Users\\piotr\\anaconda3\\Lib\\site-packages\\sklearn\\metrics\\_classification.py:1531: UndefinedMetricWarning: F-score is ill-defined and being set to 0.0 in samples with no true nor predicted labels. Use `zero_division` parameter to control this behavior.\n",
      "  _warn_prf(average, modifier, f\"{metric.capitalize()} is\", len(result))\n"
     ]
    },
    {
     "data": {
      "image/png": "[encoded data removed]",
      "text/plain": [
       "<Figure size 1200x800 with 1 Axes>"
      ]
     },
     "metadata": {},
     "output_type": "display_data"
    }
   ],
   "source": [
    "# Convert lists to arrays\n",
    "logits_array = np.concatenate(logits, axis=0)\n",
    "labels_array = np.concatenate(labels_list, axis=0)\n",
    "\n",
    "# Apply sigmoid to get probabilities\n",
    "probs = torch.sigmoid(torch.tensor(logits_array)).numpy()\n",
    "preds = (probs > 0.7).astype(int)\n",
    "\n",
    "# %% [markdown]\n",
    "# ## Metrics on Test Set\n",
    "\n",
    "y_true = labels_array.astype(int)\n",
    "y_pred = preds.astype(int)\n",
    "\n",
    "print(\"\\nClassification Report (Per-Class):\")\n",
    "print(\n",
    "    classification_report(\n",
    "        y_true, y_pred, \n",
    "        target_names=[f\"Class {i}\" for i in range(y_true.shape[1])]\n",
    "    )\n",
    ")\n",
    "\n",
    "# Confusion matrix (argmax at the row level can be misleading for multi-label,\n",
    "# but shown here for demonstration.)\n",
    "cm = confusion_matrix(\n",
    "    y_true.argmax(axis=1), \n",
    "    y_pred.argmax(axis=1)\n",
    ")\n",
    "print(\"\\nConfusion Matrix:\\n\", cm)\n",
    "\n",
    "# Element-wise binary accuracy\n",
    "correct_predictions = (y_true == y_pred).sum()\n",
    "total_predictions   = y_true.size\n",
    "binary_accuracy     = correct_predictions / total_predictions\n",
    "print(f\"Binary Accuracy: {binary_accuracy:.4f}\")\n",
    "\n",
    "# %% [markdown]\n",
    "# ## ROC Curves (Optional)\n",
    "\n",
    "plt.figure(figsize=(12, 8))\n",
    "for i in range(y_true.shape[1]):\n",
    "    fpr, tpr, _ = roc_curve(y_true[:, i], probs[:, i])\n",
    "    roc_auc = auc(fpr, tpr)\n",
    "    plt.plot(fpr, tpr, label=f'Class {i} (AUC = {roc_auc:.2f})')\n",
    "\n",
    "plt.plot([0, 1], [0, 1], 'k--', lw=2)\n",
    "plt.xlabel('False Positive Rate')\n",
    "plt.ylabel('True Positive Rate')\n",
    "plt.title('ROC Curves for Each Class')\n",
    "plt.legend(loc='lower right')\n",
    "plt.grid(True)\n",
    "plt.show()\n"
   ]
  },
  {
   "cell_type": "code",
   "execution_count": 46,
   "metadata": {},
   "outputs": [
    {
     "data": {
      "text/plain": [
       "['Pleural_Thickening',\n",
       " 'Effusion',\n",
       " 'Nodule',\n",
       " 'Pneumothorax',\n",
       " 'No Finding',\n",
       " 'Consolidation',\n",
       " 'Atelectasis',\n",
       " 'Mass',\n",
       " 'Infiltration']"
      ]
     },
     "execution_count": 46,
     "metadata": {},
     "output_type": "execute_result"
    }
   ],
   "source": [
    "common_diseases"
   ]
  },
  {
   "cell_type": "code",
   "execution_count": null,
   "metadata": {},
   "outputs": [],
   "source": []
  }
 ],
 "metadata": {
  "kernelspec": {
   "display_name": "base",
   "language": "python",
   "name": "python3"
  },
  "language_info": {
   "codemirror_mode": {
    "name": "ipython",
    "version": 3
   },
   "file_extension": ".py",
   "mimetype": "text/x-python",
   "name": "python",
   "nbconvert_exporter": "python",
   "pygments_lexer": "ipython3",
   "version": "3.12.7"
  }
 },
 "nbformat": 4,
 "nbformat_minor": 2
}

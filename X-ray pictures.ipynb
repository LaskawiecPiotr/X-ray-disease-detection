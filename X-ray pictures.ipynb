{
 "cells": [
  {
   "cell_type": "code",
   "execution_count": null,
   "metadata": {},
   "outputs": [],
   "source": [
    "image_paths=glob.glob(record_path+r\"\\**\\*.png\",recursive=True)"
   ]
  },
  {
   "cell_type": "code",
   "execution_count": null,
   "metadata": {},
   "outputs": [],
   "source": [
    "image=cv2.imread(image_paths[-1])\n",
    "\n",
    "# Display the image\n",
    "plt.imshow(image)\n",
    "plt.axis('off')\n",
    "plt.show()"
   ]
  },
  {
   "cell_type": "code",
   "execution_count": null,
   "metadata": {},
   "outputs": [],
   "source": [
    "bounding_boxes=pd.read_csv(record_path+r\"\\BBox_List_2017.csv\")\n",
    "display(bounding_boxes)"
   ]
  },
  {
   "cell_type": "code",
   "execution_count": null,
   "metadata": {},
   "outputs": [],
   "source": [
    "bounding_boxes[\"Bounding Box\"] = bounding_boxes.iloc[:, [2, 3, 4, 5]].values.tolist()\n",
    "bounding_boxes=bounding_boxes[[\"Image Index\",\"Finding Label\",\"Bounding Box\"]]"
   ]
  },
  {
   "cell_type": "code",
   "execution_count": null,
   "metadata": {},
   "outputs": [],
   "source": [
    "image_name = bounding_boxes[\"Image Index\"][1]\n",
    "matching_path =  next((path for path in image_paths if image_name in path), None)"
   ]
  },
  {
   "cell_type": "code",
   "execution_count": null,
   "metadata": {},
   "outputs": [],
   "source": [
    "fig=plt.figure(figsize=(20, 15))\n",
    "gs = gridspec.GridSpec(4,4, figure=fig, wspace=0.05, hspace=0.05) \n",
    "for i in range(10):\n",
    "    image_name = bounding_boxes[\"Image Index\"][i]\n",
    "    matching_path =  next((path for path in image_paths if image_name in path), None)\n",
    "    image=cv2.imread(matching_path)\n",
    "    bbox=bounding_boxes[\"Bounding Box\"][i]\n",
    "    # Display the image\n",
    "    ax=fig.add_subplot(gs[i]) \n",
    "    ax.imshow(image)\n",
    "\n",
    "    # Draw bounding boxes\n",
    "    rect = patches.Rectangle(\n",
    "        (bbox[0], bbox[1]), bbox[2], bbox[3],  # (x, y), width, height\n",
    "        linewidth=2, edgecolor='red', facecolor='none'\n",
    "    )\n",
    "    ax.add_patch(rect)\n",
    "\n",
    "    # Customize plot\n",
    "    plt.axis('off')  # Hide axis labels\n",
    "plt.show()"
   ]
  }
 ],
 "metadata": {
  "language_info": {
   "name": "python"
  }
 },
 "nbformat": 4,
 "nbformat_minor": 2
}
